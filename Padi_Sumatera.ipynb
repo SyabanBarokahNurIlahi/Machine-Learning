{
  "nbformat": 4,
  "nbformat_minor": 0,
  "metadata": {
    "colab": {
      "provenance": [],
      "authorship_tag": "ABX9TyME0RIaQVylGznt+q2gGLrt",
      "include_colab_link": true
    },
    "kernelspec": {
      "name": "python3",
      "display_name": "Python 3"
    },
    "language_info": {
      "name": "python"
    }
  },
  "cells": [
    {
      "cell_type": "markdown",
      "metadata": {
        "id": "view-in-github",
        "colab_type": "text"
      },
      "source": [
        "<a href=\"https://colab.research.google.com/github/SyabanBarokahNurIlahi/Machine-Learning/blob/main/Padi_Sumatera.ipynb\" target=\"_parent\"><img src=\"https://colab.research.google.com/assets/colab-badge.svg\" alt=\"Open In Colab\"/></a>"
      ]
    },
    {
      "cell_type": "code",
      "execution_count": null,
      "metadata": {
        "id": "W2wfnso_oaA3"
      },
      "outputs": [],
      "source": [
        "import pandas as pd\n",
        "import numpy as np\n",
        "padi=pd.read_csv('Padi.csv')"
      ]
    },
    {
      "cell_type": "code",
      "source": [
        "padi.info()"
      ],
      "metadata": {
        "colab": {
          "base_uri": "https://localhost:8080/"
        },
        "id": "GmsB-zsrI3Ox",
        "outputId": "0fc5fc8f-be7b-4287-d402-bfb93a5b7c9e"
      },
      "execution_count": null,
      "outputs": [
        {
          "output_type": "stream",
          "name": "stdout",
          "text": [
            "<class 'pandas.core.frame.DataFrame'>\n",
            "RangeIndex: 224 entries, 0 to 223\n",
            "Data columns (total 7 columns):\n",
            " #   Column          Non-Null Count  Dtype  \n",
            "---  ------          --------------  -----  \n",
            " 0   Provinsi        224 non-null    object \n",
            " 1   Tahun           224 non-null    int64  \n",
            " 2   Produksi        224 non-null    float64\n",
            " 3   Luas Panen      224 non-null    float64\n",
            " 4   Curah hujan     224 non-null    float64\n",
            " 5   Kelembapan      224 non-null    float64\n",
            " 6   Suhu rata-rata  224 non-null    float64\n",
            "dtypes: float64(5), int64(1), object(1)\n",
            "memory usage: 12.4+ KB\n"
          ]
        }
      ]
    },
    {
      "cell_type": "code",
      "source": [
        "padi.head(10)"
      ],
      "metadata": {
        "colab": {
          "base_uri": "https://localhost:8080/",
          "height": 363
        },
        "id": "jTSVj0I6KBj-",
        "outputId": "bbd254f8-e7af-4b38-c7f4-d101958a94e6"
      },
      "execution_count": null,
      "outputs": [
        {
          "output_type": "execute_result",
          "data": {
            "text/plain": [
              "  Provinsi  Tahun   Produksi  Luas Panen  Curah hujan  Kelembapan  \\\n",
              "0     Aceh   1993  1329536.0    323589.0       1627.0       82.00   \n",
              "1     Aceh   1994  1299699.0    329041.0       1521.0       82.12   \n",
              "2     Aceh   1995  1382905.0    339253.0       1476.0       82.72   \n",
              "3     Aceh   1996  1419128.0    348223.0       1557.0       83.00   \n",
              "4     Aceh   1997  1368074.0    337561.0       1339.0       82.46   \n",
              "5     Aceh   1998  1404580.0    365892.0       1465.0       82.60   \n",
              "6     Aceh   1999  1478712.0    359817.0       1778.0       82.79   \n",
              "7     Aceh   2000  1486909.0    336765.0       1974.7       90.60   \n",
              "8     Aceh   2001  1547499.0    295212.0       1688.7       69.48   \n",
              "9     Aceh   2002  1314165.0    315131.0       1296.8       68.75   \n",
              "\n",
              "   Suhu rata-rata  \n",
              "0           26.06  \n",
              "1           26.92  \n",
              "2           26.27  \n",
              "3           26.08  \n",
              "4           26.31  \n",
              "5           26.84  \n",
              "6           26.14  \n",
              "7           27.10  \n",
              "8           28.90  \n",
              "9           29.20  "
            ],
            "text/html": [
              "\n",
              "  <div id=\"df-49b91527-3e4f-4004-9d0c-0e99c3bb2a47\" class=\"colab-df-container\">\n",
              "    <div>\n",
              "<style scoped>\n",
              "    .dataframe tbody tr th:only-of-type {\n",
              "        vertical-align: middle;\n",
              "    }\n",
              "\n",
              "    .dataframe tbody tr th {\n",
              "        vertical-align: top;\n",
              "    }\n",
              "\n",
              "    .dataframe thead th {\n",
              "        text-align: right;\n",
              "    }\n",
              "</style>\n",
              "<table border=\"1\" class=\"dataframe\">\n",
              "  <thead>\n",
              "    <tr style=\"text-align: right;\">\n",
              "      <th></th>\n",
              "      <th>Provinsi</th>\n",
              "      <th>Tahun</th>\n",
              "      <th>Produksi</th>\n",
              "      <th>Luas Panen</th>\n",
              "      <th>Curah hujan</th>\n",
              "      <th>Kelembapan</th>\n",
              "      <th>Suhu rata-rata</th>\n",
              "    </tr>\n",
              "  </thead>\n",
              "  <tbody>\n",
              "    <tr>\n",
              "      <th>0</th>\n",
              "      <td>Aceh</td>\n",
              "      <td>1993</td>\n",
              "      <td>1329536.0</td>\n",
              "      <td>323589.0</td>\n",
              "      <td>1627.0</td>\n",
              "      <td>82.00</td>\n",
              "      <td>26.06</td>\n",
              "    </tr>\n",
              "    <tr>\n",
              "      <th>1</th>\n",
              "      <td>Aceh</td>\n",
              "      <td>1994</td>\n",
              "      <td>1299699.0</td>\n",
              "      <td>329041.0</td>\n",
              "      <td>1521.0</td>\n",
              "      <td>82.12</td>\n",
              "      <td>26.92</td>\n",
              "    </tr>\n",
              "    <tr>\n",
              "      <th>2</th>\n",
              "      <td>Aceh</td>\n",
              "      <td>1995</td>\n",
              "      <td>1382905.0</td>\n",
              "      <td>339253.0</td>\n",
              "      <td>1476.0</td>\n",
              "      <td>82.72</td>\n",
              "      <td>26.27</td>\n",
              "    </tr>\n",
              "    <tr>\n",
              "      <th>3</th>\n",
              "      <td>Aceh</td>\n",
              "      <td>1996</td>\n",
              "      <td>1419128.0</td>\n",
              "      <td>348223.0</td>\n",
              "      <td>1557.0</td>\n",
              "      <td>83.00</td>\n",
              "      <td>26.08</td>\n",
              "    </tr>\n",
              "    <tr>\n",
              "      <th>4</th>\n",
              "      <td>Aceh</td>\n",
              "      <td>1997</td>\n",
              "      <td>1368074.0</td>\n",
              "      <td>337561.0</td>\n",
              "      <td>1339.0</td>\n",
              "      <td>82.46</td>\n",
              "      <td>26.31</td>\n",
              "    </tr>\n",
              "    <tr>\n",
              "      <th>5</th>\n",
              "      <td>Aceh</td>\n",
              "      <td>1998</td>\n",
              "      <td>1404580.0</td>\n",
              "      <td>365892.0</td>\n",
              "      <td>1465.0</td>\n",
              "      <td>82.60</td>\n",
              "      <td>26.84</td>\n",
              "    </tr>\n",
              "    <tr>\n",
              "      <th>6</th>\n",
              "      <td>Aceh</td>\n",
              "      <td>1999</td>\n",
              "      <td>1478712.0</td>\n",
              "      <td>359817.0</td>\n",
              "      <td>1778.0</td>\n",
              "      <td>82.79</td>\n",
              "      <td>26.14</td>\n",
              "    </tr>\n",
              "    <tr>\n",
              "      <th>7</th>\n",
              "      <td>Aceh</td>\n",
              "      <td>2000</td>\n",
              "      <td>1486909.0</td>\n",
              "      <td>336765.0</td>\n",
              "      <td>1974.7</td>\n",
              "      <td>90.60</td>\n",
              "      <td>27.10</td>\n",
              "    </tr>\n",
              "    <tr>\n",
              "      <th>8</th>\n",
              "      <td>Aceh</td>\n",
              "      <td>2001</td>\n",
              "      <td>1547499.0</td>\n",
              "      <td>295212.0</td>\n",
              "      <td>1688.7</td>\n",
              "      <td>69.48</td>\n",
              "      <td>28.90</td>\n",
              "    </tr>\n",
              "    <tr>\n",
              "      <th>9</th>\n",
              "      <td>Aceh</td>\n",
              "      <td>2002</td>\n",
              "      <td>1314165.0</td>\n",
              "      <td>315131.0</td>\n",
              "      <td>1296.8</td>\n",
              "      <td>68.75</td>\n",
              "      <td>29.20</td>\n",
              "    </tr>\n",
              "  </tbody>\n",
              "</table>\n",
              "</div>\n",
              "    <div class=\"colab-df-buttons\">\n",
              "\n",
              "  <div class=\"colab-df-container\">\n",
              "    <button class=\"colab-df-convert\" onclick=\"convertToInteractive('df-49b91527-3e4f-4004-9d0c-0e99c3bb2a47')\"\n",
              "            title=\"Convert this dataframe to an interactive table.\"\n",
              "            style=\"display:none;\">\n",
              "\n",
              "  <svg xmlns=\"http://www.w3.org/2000/svg\" height=\"24px\" viewBox=\"0 -960 960 960\">\n",
              "    <path d=\"M120-120v-720h720v720H120Zm60-500h600v-160H180v160Zm220 220h160v-160H400v160Zm0 220h160v-160H400v160ZM180-400h160v-160H180v160Zm440 0h160v-160H620v160ZM180-180h160v-160H180v160Zm440 0h160v-160H620v160Z\"/>\n",
              "  </svg>\n",
              "    </button>\n",
              "\n",
              "  <style>\n",
              "    .colab-df-container {\n",
              "      display:flex;\n",
              "      gap: 12px;\n",
              "    }\n",
              "\n",
              "    .colab-df-convert {\n",
              "      background-color: #E8F0FE;\n",
              "      border: none;\n",
              "      border-radius: 50%;\n",
              "      cursor: pointer;\n",
              "      display: none;\n",
              "      fill: #1967D2;\n",
              "      height: 32px;\n",
              "      padding: 0 0 0 0;\n",
              "      width: 32px;\n",
              "    }\n",
              "\n",
              "    .colab-df-convert:hover {\n",
              "      background-color: #E2EBFA;\n",
              "      box-shadow: 0px 1px 2px rgba(60, 64, 67, 0.3), 0px 1px 3px 1px rgba(60, 64, 67, 0.15);\n",
              "      fill: #174EA6;\n",
              "    }\n",
              "\n",
              "    .colab-df-buttons div {\n",
              "      margin-bottom: 4px;\n",
              "    }\n",
              "\n",
              "    [theme=dark] .colab-df-convert {\n",
              "      background-color: #3B4455;\n",
              "      fill: #D2E3FC;\n",
              "    }\n",
              "\n",
              "    [theme=dark] .colab-df-convert:hover {\n",
              "      background-color: #434B5C;\n",
              "      box-shadow: 0px 1px 3px 1px rgba(0, 0, 0, 0.15);\n",
              "      filter: drop-shadow(0px 1px 2px rgba(0, 0, 0, 0.3));\n",
              "      fill: #FFFFFF;\n",
              "    }\n",
              "  </style>\n",
              "\n",
              "    <script>\n",
              "      const buttonEl =\n",
              "        document.querySelector('#df-49b91527-3e4f-4004-9d0c-0e99c3bb2a47 button.colab-df-convert');\n",
              "      buttonEl.style.display =\n",
              "        google.colab.kernel.accessAllowed ? 'block' : 'none';\n",
              "\n",
              "      async function convertToInteractive(key) {\n",
              "        const element = document.querySelector('#df-49b91527-3e4f-4004-9d0c-0e99c3bb2a47');\n",
              "        const dataTable =\n",
              "          await google.colab.kernel.invokeFunction('convertToInteractive',\n",
              "                                                    [key], {});\n",
              "        if (!dataTable) return;\n",
              "\n",
              "        const docLinkHtml = 'Like what you see? Visit the ' +\n",
              "          '<a target=\"_blank\" href=https://colab.research.google.com/notebooks/data_table.ipynb>data table notebook</a>'\n",
              "          + ' to learn more about interactive tables.';\n",
              "        element.innerHTML = '';\n",
              "        dataTable['output_type'] = 'display_data';\n",
              "        await google.colab.output.renderOutput(dataTable, element);\n",
              "        const docLink = document.createElement('div');\n",
              "        docLink.innerHTML = docLinkHtml;\n",
              "        element.appendChild(docLink);\n",
              "      }\n",
              "    </script>\n",
              "  </div>\n",
              "\n",
              "\n",
              "<div id=\"df-aa55c7a8-97b6-4734-9dbe-595256aade06\">\n",
              "  <button class=\"colab-df-quickchart\" onclick=\"quickchart('df-aa55c7a8-97b6-4734-9dbe-595256aade06')\"\n",
              "            title=\"Suggest charts\"\n",
              "            style=\"display:none;\">\n",
              "\n",
              "<svg xmlns=\"http://www.w3.org/2000/svg\" height=\"24px\"viewBox=\"0 0 24 24\"\n",
              "     width=\"24px\">\n",
              "    <g>\n",
              "        <path d=\"M19 3H5c-1.1 0-2 .9-2 2v14c0 1.1.9 2 2 2h14c1.1 0 2-.9 2-2V5c0-1.1-.9-2-2-2zM9 17H7v-7h2v7zm4 0h-2V7h2v10zm4 0h-2v-4h2v4z\"/>\n",
              "    </g>\n",
              "</svg>\n",
              "  </button>\n",
              "\n",
              "<style>\n",
              "  .colab-df-quickchart {\n",
              "      --bg-color: #E8F0FE;\n",
              "      --fill-color: #1967D2;\n",
              "      --hover-bg-color: #E2EBFA;\n",
              "      --hover-fill-color: #174EA6;\n",
              "      --disabled-fill-color: #AAA;\n",
              "      --disabled-bg-color: #DDD;\n",
              "  }\n",
              "\n",
              "  [theme=dark] .colab-df-quickchart {\n",
              "      --bg-color: #3B4455;\n",
              "      --fill-color: #D2E3FC;\n",
              "      --hover-bg-color: #434B5C;\n",
              "      --hover-fill-color: #FFFFFF;\n",
              "      --disabled-bg-color: #3B4455;\n",
              "      --disabled-fill-color: #666;\n",
              "  }\n",
              "\n",
              "  .colab-df-quickchart {\n",
              "    background-color: var(--bg-color);\n",
              "    border: none;\n",
              "    border-radius: 50%;\n",
              "    cursor: pointer;\n",
              "    display: none;\n",
              "    fill: var(--fill-color);\n",
              "    height: 32px;\n",
              "    padding: 0;\n",
              "    width: 32px;\n",
              "  }\n",
              "\n",
              "  .colab-df-quickchart:hover {\n",
              "    background-color: var(--hover-bg-color);\n",
              "    box-shadow: 0 1px 2px rgba(60, 64, 67, 0.3), 0 1px 3px 1px rgba(60, 64, 67, 0.15);\n",
              "    fill: var(--button-hover-fill-color);\n",
              "  }\n",
              "\n",
              "  .colab-df-quickchart-complete:disabled,\n",
              "  .colab-df-quickchart-complete:disabled:hover {\n",
              "    background-color: var(--disabled-bg-color);\n",
              "    fill: var(--disabled-fill-color);\n",
              "    box-shadow: none;\n",
              "  }\n",
              "\n",
              "  .colab-df-spinner {\n",
              "    border: 2px solid var(--fill-color);\n",
              "    border-color: transparent;\n",
              "    border-bottom-color: var(--fill-color);\n",
              "    animation:\n",
              "      spin 1s steps(1) infinite;\n",
              "  }\n",
              "\n",
              "  @keyframes spin {\n",
              "    0% {\n",
              "      border-color: transparent;\n",
              "      border-bottom-color: var(--fill-color);\n",
              "      border-left-color: var(--fill-color);\n",
              "    }\n",
              "    20% {\n",
              "      border-color: transparent;\n",
              "      border-left-color: var(--fill-color);\n",
              "      border-top-color: var(--fill-color);\n",
              "    }\n",
              "    30% {\n",
              "      border-color: transparent;\n",
              "      border-left-color: var(--fill-color);\n",
              "      border-top-color: var(--fill-color);\n",
              "      border-right-color: var(--fill-color);\n",
              "    }\n",
              "    40% {\n",
              "      border-color: transparent;\n",
              "      border-right-color: var(--fill-color);\n",
              "      border-top-color: var(--fill-color);\n",
              "    }\n",
              "    60% {\n",
              "      border-color: transparent;\n",
              "      border-right-color: var(--fill-color);\n",
              "    }\n",
              "    80% {\n",
              "      border-color: transparent;\n",
              "      border-right-color: var(--fill-color);\n",
              "      border-bottom-color: var(--fill-color);\n",
              "    }\n",
              "    90% {\n",
              "      border-color: transparent;\n",
              "      border-bottom-color: var(--fill-color);\n",
              "    }\n",
              "  }\n",
              "</style>\n",
              "\n",
              "  <script>\n",
              "    async function quickchart(key) {\n",
              "      const quickchartButtonEl =\n",
              "        document.querySelector('#' + key + ' button');\n",
              "      quickchartButtonEl.disabled = true;  // To prevent multiple clicks.\n",
              "      quickchartButtonEl.classList.add('colab-df-spinner');\n",
              "      try {\n",
              "        const charts = await google.colab.kernel.invokeFunction(\n",
              "            'suggestCharts', [key], {});\n",
              "      } catch (error) {\n",
              "        console.error('Error during call to suggestCharts:', error);\n",
              "      }\n",
              "      quickchartButtonEl.classList.remove('colab-df-spinner');\n",
              "      quickchartButtonEl.classList.add('colab-df-quickchart-complete');\n",
              "    }\n",
              "    (() => {\n",
              "      let quickchartButtonEl =\n",
              "        document.querySelector('#df-aa55c7a8-97b6-4734-9dbe-595256aade06 button');\n",
              "      quickchartButtonEl.style.display =\n",
              "        google.colab.kernel.accessAllowed ? 'block' : 'none';\n",
              "    })();\n",
              "  </script>\n",
              "</div>\n",
              "    </div>\n",
              "  </div>\n"
            ],
            "application/vnd.google.colaboratory.intrinsic+json": {
              "type": "dataframe",
              "variable_name": "padi",
              "summary": "{\n  \"name\": \"padi\",\n  \"rows\": 224,\n  \"fields\": [\n    {\n      \"column\": \"Provinsi\",\n      \"properties\": {\n        \"dtype\": \"category\",\n        \"num_unique_values\": 8,\n        \"samples\": [\n          \"Sumatera Utara\",\n          \"Sumatera Selatan\",\n          \"Aceh\"\n        ],\n        \"semantic_type\": \"\",\n        \"description\": \"\"\n      }\n    },\n    {\n      \"column\": \"Tahun\",\n      \"properties\": {\n        \"dtype\": \"number\",\n        \"std\": 8,\n        \"min\": 1993,\n        \"max\": 2020,\n        \"num_unique_values\": 28,\n        \"samples\": [\n          2002,\n          2018,\n          2001\n        ],\n        \"semantic_type\": \"\",\n        \"description\": \"\"\n      }\n    },\n    {\n      \"column\": \"Produksi\",\n      \"properties\": {\n        \"dtype\": \"number\",\n        \"std\": 1161387.3940689566,\n        \"min\": 42938.0,\n        \"max\": 4881089.0,\n        \"num_unique_values\": 224,\n        \"samples\": [\n          1314165.0,\n          436297.0,\n          550277.0\n        ],\n        \"semantic_type\": \"\",\n        \"description\": \"\"\n      }\n    },\n    {\n      \"column\": \"Luas Panen\",\n      \"properties\": {\n        \"dtype\": \"number\",\n        \"std\": 232751.1619874883,\n        \"min\": 63142.04,\n        \"max\": 872737.0,\n        \"num_unique_values\": 224,\n        \"samples\": [\n          315131.0,\n          146133.0,\n          178766.0\n        ],\n        \"semantic_type\": \"\",\n        \"description\": \"\"\n      }\n    },\n    {\n      \"column\": \"Curah hujan\",\n      \"properties\": {\n        \"dtype\": \"number\",\n        \"std\": 1031.9726245625445,\n        \"min\": 222.5,\n        \"max\": 5522.0,\n        \"num_unique_values\": 220,\n        \"samples\": [\n          1781.0,\n          2368.2,\n          3123.8\n        ],\n        \"semantic_type\": \"\",\n        \"description\": \"\"\n      }\n    },\n    {\n      \"column\": \"Kelembapan\",\n      \"properties\": {\n        \"dtype\": \"number\",\n        \"std\": 4.878679857345063,\n        \"min\": 54.2,\n        \"max\": 90.6,\n        \"num_unique_values\": 180,\n        \"samples\": [\n          79.6,\n          78.55,\n          82.52\n        ],\n        \"semantic_type\": \"\",\n        \"description\": \"\"\n      }\n    },\n    {\n      \"column\": \"Suhu rata-rata\",\n      \"properties\": {\n        \"dtype\": \"number\",\n        \"std\": 1.197041074918334,\n        \"min\": 22.19,\n        \"max\": 29.85,\n        \"num_unique_values\": 136,\n        \"samples\": [\n          25.98,\n          24.82,\n          25.8\n        ],\n        \"semantic_type\": \"\",\n        \"description\": \"\"\n      }\n    }\n  ]\n}"
            }
          },
          "metadata": {},
          "execution_count": 18
        }
      ]
    },
    {
      "cell_type": "code",
      "source": [
        "#memisahkan atribut dngn label\n",
        "X = padi[['Provinsi','Tahun','Produksi','Luas Panen','Curah hujan','Kelembapan','Suhu rata-rata']] #atribut\n",
        "y = padi['Provinsi'] #label\n",
        "\n",
        "#membagi data set menjadi data latih dan dta uji\n",
        "from sklearn.model_selection import train_test_split\n",
        "X_train,X_test, y_train, y_test = train_test_split(X, y, test_size=0.1, random_state=123)"
      ],
      "metadata": {
        "id": "texcwhdLKKfK"
      },
      "execution_count": null,
      "outputs": []
    },
    {
      "cell_type": "code",
      "source": [
        "from sklearn.tree import DecisionTreeClassifier\n",
        "\n",
        "#membuat model decison 3\n",
        "tree_model = DecisionTreeClassifier()\n",
        "\n",
        "#melatih model menggunakan data latih\n",
        "tree_model = tree_model.fit(X_train_encoded, y_train)"
      ],
      "metadata": {
        "id": "jB_e9fGEX8sC"
      },
      "execution_count": null,
      "outputs": []
    },
    {
      "cell_type": "code",
      "source": [
        "# Encode X_test\n",
        "X_test_encoded = pd.get_dummies(X_test)\n",
        "\n",
        "# Pastikan kolom yang di-encode dalam X_train juga ada dalam X_test\n",
        "missing_cols = set(X_train_encoded.columns) - set(X_test_encoded.columns)\n",
        "for col in missing_cols:\n",
        "    X_test_encoded[col] = 0\n",
        "\n",
        "# Lakukan prediksi dengan model dan X_test_encoded yang telah Anda siapkan\n",
        "y_pred = tree_model.predict(X_test_encoded)\n",
        "\n",
        "# Evaluasi model\n",
        "acc_score = round(accuracy_score(y_pred, y_test), 3)\n",
        "print('Accuracy:', acc_score)"
      ],
      "metadata": {
        "colab": {
          "base_uri": "https://localhost:8080/"
        },
        "id": "ALmsCiSNYQeS",
        "outputId": "7169f03c-3dbd-4c13-aa4c-1fca2136fcd3"
      },
      "execution_count": null,
      "outputs": [
        {
          "output_type": "stream",
          "name": "stdout",
          "text": [
            "Accuracy: 1.0\n"
          ]
        }
      ]
    },
    {
      "cell_type": "code",
      "source": [
        "from sklearn.tree import export_graphviz\n",
        "\n",
        "export_graphviz(tree_model,\n",
        "                out_file=\"padi_eda.dot\",\n",
        "                feature_names=X_train_encoded.columns,\n",
        "                class_names=tree_model.classes_,\n",
        "                rounded=True,\n",
        "                filled=True)"
      ],
      "metadata": {
        "id": "StvkFU7-ihzm"
      },
      "execution_count": null,
      "outputs": []
    },
    {
      "cell_type": "code",
      "source": [
        "# Konversi file .dot menjadi gambar\n",
        "import graphviz\n",
        "with open(\"padi_eda.dot\") as f:\n",
        "    dot_graph = f.read()\n",
        "graphviz.Source(dot_graph)"
      ],
      "metadata": {
        "colab": {
          "base_uri": "https://localhost:8080/",
          "height": 1000
        },
        "id": "irfYl2UVmbLy",
        "outputId": "5ec2c9e1-309c-4943-f44c-57a6402bc96a"
      },
      "execution_count": null,
      "outputs": [
        {
          "output_type": "execute_result",
          "data": {
            "image/svg+xml": "<?xml version=\"1.0\" encoding=\"UTF-8\" standalone=\"no\"?>\n<!DOCTYPE svg PUBLIC \"-//W3C//DTD SVG 1.1//EN\"\n \"http://www.w3.org/Graphics/SVG/1.1/DTD/svg11.dtd\">\n<!-- Generated by graphviz version 2.43.0 (0)\n -->\n<!-- Title: Tree Pages: 1 -->\n<svg width=\"1091pt\" height=\"909pt\"\n viewBox=\"0.00 0.00 1091.00 909.00\" xmlns=\"http://www.w3.org/2000/svg\" xmlns:xlink=\"http://www.w3.org/1999/xlink\">\n<g id=\"graph0\" class=\"graph\" transform=\"scale(1 1) rotate(0) translate(4 905)\">\n<title>Tree</title>\n<polygon fill=\"white\" stroke=\"transparent\" points=\"-4,4 -4,-905 1087,-905 1087,4 -4,4\"/>\n<!-- 0 -->\n<g id=\"node1\" class=\"node\">\n<title>0</title>\n<path fill=\"#ffffff\" stroke=\"black\" d=\"M980.5,-901C980.5,-901 759.5,-901 759.5,-901 753.5,-901 747.5,-895 747.5,-889 747.5,-889 747.5,-830 747.5,-830 747.5,-824 753.5,-818 759.5,-818 759.5,-818 980.5,-818 980.5,-818 986.5,-818 992.5,-824 992.5,-830 992.5,-830 992.5,-889 992.5,-889 992.5,-895 986.5,-901 980.5,-901\"/>\n<text text-anchor=\"middle\" x=\"870\" y=\"-885.8\" font-family=\"Helvetica,sans-Serif\" font-size=\"14.00\">Provinsi_Sumatera Utara &lt;= 0.5</text>\n<text text-anchor=\"middle\" x=\"870\" y=\"-870.8\" font-family=\"Helvetica,sans-Serif\" font-size=\"14.00\">gini = 0.875</text>\n<text text-anchor=\"middle\" x=\"870\" y=\"-855.8\" font-family=\"Helvetica,sans-Serif\" font-size=\"14.00\">samples = 201</text>\n<text text-anchor=\"middle\" x=\"870\" y=\"-840.8\" font-family=\"Helvetica,sans-Serif\" font-size=\"14.00\">value = [26, 24, 25, 25, 26, 25, 24, 26]</text>\n<text text-anchor=\"middle\" x=\"870\" y=\"-825.8\" font-family=\"Helvetica,sans-Serif\" font-size=\"14.00\">class = Aceh</text>\n</g>\n<!-- 1 -->\n<g id=\"node2\" class=\"node\">\n<title>1</title>\n<path fill=\"#ffffff\" stroke=\"black\" d=\"M860.5,-782C860.5,-782 647.5,-782 647.5,-782 641.5,-782 635.5,-776 635.5,-770 635.5,-770 635.5,-711 635.5,-711 635.5,-705 641.5,-699 647.5,-699 647.5,-699 860.5,-699 860.5,-699 866.5,-699 872.5,-705 872.5,-711 872.5,-711 872.5,-770 872.5,-770 872.5,-776 866.5,-782 860.5,-782\"/>\n<text text-anchor=\"middle\" x=\"754\" y=\"-766.8\" font-family=\"Helvetica,sans-Serif\" font-size=\"14.00\">Provinsi_Aceh &lt;= 0.5</text>\n<text text-anchor=\"middle\" x=\"754\" y=\"-751.8\" font-family=\"Helvetica,sans-Serif\" font-size=\"14.00\">gini = 0.857</text>\n<text text-anchor=\"middle\" x=\"754\" y=\"-736.8\" font-family=\"Helvetica,sans-Serif\" font-size=\"14.00\">samples = 175</text>\n<text text-anchor=\"middle\" x=\"754\" y=\"-721.8\" font-family=\"Helvetica,sans-Serif\" font-size=\"14.00\">value = [26, 24, 25, 25, 26, 25, 24, 0]</text>\n<text text-anchor=\"middle\" x=\"754\" y=\"-706.8\" font-family=\"Helvetica,sans-Serif\" font-size=\"14.00\">class = Aceh</text>\n</g>\n<!-- 0&#45;&gt;1 -->\n<g id=\"edge1\" class=\"edge\">\n<title>0&#45;&gt;1</title>\n<path fill=\"none\" stroke=\"black\" d=\"M829.75,-817.91C820.58,-808.65 810.74,-798.73 801.3,-789.21\"/>\n<polygon fill=\"black\" stroke=\"black\" points=\"803.7,-786.66 794.17,-782.02 798.73,-791.59 803.7,-786.66\"/>\n<text text-anchor=\"middle\" x=\"794.07\" y=\"-803.32\" font-family=\"Helvetica,sans-Serif\" font-size=\"14.00\">True</text>\n</g>\n<!-- 14 -->\n<g id=\"node15\" class=\"node\">\n<title>14</title>\n<path fill=\"#e53972\" stroke=\"black\" d=\"M1071,-774.5C1071,-774.5 903,-774.5 903,-774.5 897,-774.5 891,-768.5 891,-762.5 891,-762.5 891,-718.5 891,-718.5 891,-712.5 897,-706.5 903,-706.5 903,-706.5 1071,-706.5 1071,-706.5 1077,-706.5 1083,-712.5 1083,-718.5 1083,-718.5 1083,-762.5 1083,-762.5 1083,-768.5 1077,-774.5 1071,-774.5\"/>\n<text text-anchor=\"middle\" x=\"987\" y=\"-759.3\" font-family=\"Helvetica,sans-Serif\" font-size=\"14.00\">gini = 0.0</text>\n<text text-anchor=\"middle\" x=\"987\" y=\"-744.3\" font-family=\"Helvetica,sans-Serif\" font-size=\"14.00\">samples = 26</text>\n<text text-anchor=\"middle\" x=\"987\" y=\"-729.3\" font-family=\"Helvetica,sans-Serif\" font-size=\"14.00\">value = [0, 0, 0, 0, 0, 0, 0, 26]</text>\n<text text-anchor=\"middle\" x=\"987\" y=\"-714.3\" font-family=\"Helvetica,sans-Serif\" font-size=\"14.00\">class = Sumatera Utara</text>\n</g>\n<!-- 0&#45;&gt;14 -->\n<g id=\"edge14\" class=\"edge\">\n<title>0&#45;&gt;14</title>\n<path fill=\"none\" stroke=\"black\" d=\"M910.59,-817.91C922.29,-806.21 935.04,-793.46 946.72,-781.78\"/>\n<polygon fill=\"black\" stroke=\"black\" points=\"949.24,-784.21 953.83,-774.67 944.29,-779.26 949.24,-784.21\"/>\n<text text-anchor=\"middle\" x=\"953.83\" y=\"-795.97\" font-family=\"Helvetica,sans-Serif\" font-size=\"14.00\">False</text>\n</g>\n<!-- 2 -->\n<g id=\"node3\" class=\"node\">\n<title>2</title>\n<path fill=\"#fdfeff\" stroke=\"black\" d=\"M743,-663C743,-663 537,-663 537,-663 531,-663 525,-657 525,-651 525,-651 525,-592 525,-592 525,-586 531,-580 537,-580 537,-580 743,-580 743,-580 749,-580 755,-586 755,-592 755,-592 755,-651 755,-651 755,-657 749,-663 743,-663\"/>\n<text text-anchor=\"middle\" x=\"640\" y=\"-647.8\" font-family=\"Helvetica,sans-Serif\" font-size=\"14.00\">Provinsi_Riau &lt;= 0.5</text>\n<text text-anchor=\"middle\" x=\"640\" y=\"-632.8\" font-family=\"Helvetica,sans-Serif\" font-size=\"14.00\">gini = 0.833</text>\n<text text-anchor=\"middle\" x=\"640\" y=\"-617.8\" font-family=\"Helvetica,sans-Serif\" font-size=\"14.00\">samples = 149</text>\n<text text-anchor=\"middle\" x=\"640\" y=\"-602.8\" font-family=\"Helvetica,sans-Serif\" font-size=\"14.00\">value = [0, 24, 25, 25, 26, 25, 24, 0]</text>\n<text text-anchor=\"middle\" x=\"640\" y=\"-587.8\" font-family=\"Helvetica,sans-Serif\" font-size=\"14.00\">class = Riau</text>\n</g>\n<!-- 1&#45;&gt;2 -->\n<g id=\"edge2\" class=\"edge\">\n<title>1&#45;&gt;2</title>\n<path fill=\"none\" stroke=\"black\" d=\"M714.45,-698.91C705.43,-689.65 695.76,-679.73 686.49,-670.21\"/>\n<polygon fill=\"black\" stroke=\"black\" points=\"688.97,-667.74 679.48,-663.02 683.95,-672.63 688.97,-667.74\"/>\n</g>\n<!-- 13 -->\n<g id=\"node14\" class=\"node\">\n<title>13</title>\n<path fill=\"#e58139\" stroke=\"black\" d=\"M953,-655.5C953,-655.5 785,-655.5 785,-655.5 779,-655.5 773,-649.5 773,-643.5 773,-643.5 773,-599.5 773,-599.5 773,-593.5 779,-587.5 785,-587.5 785,-587.5 953,-587.5 953,-587.5 959,-587.5 965,-593.5 965,-599.5 965,-599.5 965,-643.5 965,-643.5 965,-649.5 959,-655.5 953,-655.5\"/>\n<text text-anchor=\"middle\" x=\"869\" y=\"-640.3\" font-family=\"Helvetica,sans-Serif\" font-size=\"14.00\">gini = 0.0</text>\n<text text-anchor=\"middle\" x=\"869\" y=\"-625.3\" font-family=\"Helvetica,sans-Serif\" font-size=\"14.00\">samples = 26</text>\n<text text-anchor=\"middle\" x=\"869\" y=\"-610.3\" font-family=\"Helvetica,sans-Serif\" font-size=\"14.00\">value = [26, 0, 0, 0, 0, 0, 0, 0]</text>\n<text text-anchor=\"middle\" x=\"869\" y=\"-595.3\" font-family=\"Helvetica,sans-Serif\" font-size=\"14.00\">class = Aceh</text>\n</g>\n<!-- 1&#45;&gt;13 -->\n<g id=\"edge13\" class=\"edge\">\n<title>1&#45;&gt;13</title>\n<path fill=\"none\" stroke=\"black\" d=\"M793.9,-698.91C805.29,-687.32 817.69,-674.7 829.08,-663.11\"/>\n<polygon fill=\"black\" stroke=\"black\" points=\"831.89,-665.25 836.4,-655.67 826.89,-660.35 831.89,-665.25\"/>\n</g>\n<!-- 3 -->\n<g id=\"node4\" class=\"node\">\n<title>3</title>\n<path fill=\"#ffffff\" stroke=\"black\" d=\"M627,-544C627,-544 429,-544 429,-544 423,-544 417,-538 417,-532 417,-532 417,-473 417,-473 417,-467 423,-461 429,-461 429,-461 627,-461 627,-461 633,-461 639,-467 639,-473 639,-473 639,-532 639,-532 639,-538 633,-544 627,-544\"/>\n<text text-anchor=\"middle\" x=\"528\" y=\"-528.8\" font-family=\"Helvetica,sans-Serif\" font-size=\"14.00\">Provinsi_Sumatera Barat &lt;= 0.5</text>\n<text text-anchor=\"middle\" x=\"528\" y=\"-513.8\" font-family=\"Helvetica,sans-Serif\" font-size=\"14.00\">gini = 0.8</text>\n<text text-anchor=\"middle\" x=\"528\" y=\"-498.8\" font-family=\"Helvetica,sans-Serif\" font-size=\"14.00\">samples = 123</text>\n<text text-anchor=\"middle\" x=\"528\" y=\"-483.8\" font-family=\"Helvetica,sans-Serif\" font-size=\"14.00\">value = [0, 24, 25, 25, 0, 25, 24, 0]</text>\n<text text-anchor=\"middle\" x=\"528\" y=\"-468.8\" font-family=\"Helvetica,sans-Serif\" font-size=\"14.00\">class = Jambi</text>\n</g>\n<!-- 2&#45;&gt;3 -->\n<g id=\"edge3\" class=\"edge\">\n<title>2&#45;&gt;3</title>\n<path fill=\"none\" stroke=\"black\" d=\"M601.14,-579.91C592.37,-570.74 582.97,-560.93 573.94,-551.49\"/>\n<polygon fill=\"black\" stroke=\"black\" points=\"576.23,-548.82 566.79,-544.02 571.18,-553.66 576.23,-548.82\"/>\n</g>\n<!-- 12 -->\n<g id=\"node13\" class=\"node\">\n<title>12</title>\n<path fill=\"#399de5\" stroke=\"black\" d=\"M837,-536.5C837,-536.5 669,-536.5 669,-536.5 663,-536.5 657,-530.5 657,-524.5 657,-524.5 657,-480.5 657,-480.5 657,-474.5 663,-468.5 669,-468.5 669,-468.5 837,-468.5 837,-468.5 843,-468.5 849,-474.5 849,-480.5 849,-480.5 849,-524.5 849,-524.5 849,-530.5 843,-536.5 837,-536.5\"/>\n<text text-anchor=\"middle\" x=\"753\" y=\"-521.3\" font-family=\"Helvetica,sans-Serif\" font-size=\"14.00\">gini = 0.0</text>\n<text text-anchor=\"middle\" x=\"753\" y=\"-506.3\" font-family=\"Helvetica,sans-Serif\" font-size=\"14.00\">samples = 26</text>\n<text text-anchor=\"middle\" x=\"753\" y=\"-491.3\" font-family=\"Helvetica,sans-Serif\" font-size=\"14.00\">value = [0, 0, 0, 0, 26, 0, 0, 0]</text>\n<text text-anchor=\"middle\" x=\"753\" y=\"-476.3\" font-family=\"Helvetica,sans-Serif\" font-size=\"14.00\">class = Riau</text>\n</g>\n<!-- 2&#45;&gt;12 -->\n<g id=\"edge12\" class=\"edge\">\n<title>2&#45;&gt;12</title>\n<path fill=\"none\" stroke=\"black\" d=\"M679.2,-579.91C690.39,-568.32 702.59,-555.7 713.78,-544.11\"/>\n<polygon fill=\"black\" stroke=\"black\" points=\"716.54,-546.29 720.97,-536.67 711.5,-541.43 716.54,-546.29\"/>\n</g>\n<!-- 4 -->\n<g id=\"node5\" class=\"node\">\n<title>4</title>\n<path fill=\"#ffffff\" stroke=\"black\" d=\"M512.5,-425C512.5,-425 321.5,-425 321.5,-425 315.5,-425 309.5,-419 309.5,-413 309.5,-413 309.5,-354 309.5,-354 309.5,-348 315.5,-342 321.5,-342 321.5,-342 512.5,-342 512.5,-342 518.5,-342 524.5,-348 524.5,-354 524.5,-354 524.5,-413 524.5,-413 524.5,-419 518.5,-425 512.5,-425\"/>\n<text text-anchor=\"middle\" x=\"417\" y=\"-409.8\" font-family=\"Helvetica,sans-Serif\" font-size=\"14.00\">Provinsi_Lampung &lt;= 0.5</text>\n<text text-anchor=\"middle\" x=\"417\" y=\"-394.8\" font-family=\"Helvetica,sans-Serif\" font-size=\"14.00\">gini = 0.75</text>\n<text text-anchor=\"middle\" x=\"417\" y=\"-379.8\" font-family=\"Helvetica,sans-Serif\" font-size=\"14.00\">samples = 98</text>\n<text text-anchor=\"middle\" x=\"417\" y=\"-364.8\" font-family=\"Helvetica,sans-Serif\" font-size=\"14.00\">value = [0, 24, 25, 25, 0, 0, 24, 0]</text>\n<text text-anchor=\"middle\" x=\"417\" y=\"-349.8\" font-family=\"Helvetica,sans-Serif\" font-size=\"14.00\">class = Jambi</text>\n</g>\n<!-- 3&#45;&gt;4 -->\n<g id=\"edge4\" class=\"edge\">\n<title>3&#45;&gt;4</title>\n<path fill=\"none\" stroke=\"black\" d=\"M489.49,-460.91C480.79,-451.74 471.48,-441.93 462.53,-432.49\"/>\n<polygon fill=\"black\" stroke=\"black\" points=\"464.86,-429.87 455.44,-425.02 459.79,-434.68 464.86,-429.87\"/>\n</g>\n<!-- 11 -->\n<g id=\"node12\" class=\"node\">\n<title>11</title>\n<path fill=\"#5639e5\" stroke=\"black\" d=\"M723,-417.5C723,-417.5 555,-417.5 555,-417.5 549,-417.5 543,-411.5 543,-405.5 543,-405.5 543,-361.5 543,-361.5 543,-355.5 549,-349.5 555,-349.5 555,-349.5 723,-349.5 723,-349.5 729,-349.5 735,-355.5 735,-361.5 735,-361.5 735,-405.5 735,-405.5 735,-411.5 729,-417.5 723,-417.5\"/>\n<text text-anchor=\"middle\" x=\"639\" y=\"-402.3\" font-family=\"Helvetica,sans-Serif\" font-size=\"14.00\">gini = 0.0</text>\n<text text-anchor=\"middle\" x=\"639\" y=\"-387.3\" font-family=\"Helvetica,sans-Serif\" font-size=\"14.00\">samples = 25</text>\n<text text-anchor=\"middle\" x=\"639\" y=\"-372.3\" font-family=\"Helvetica,sans-Serif\" font-size=\"14.00\">value = [0, 0, 0, 0, 0, 25, 0, 0]</text>\n<text text-anchor=\"middle\" x=\"639\" y=\"-357.3\" font-family=\"Helvetica,sans-Serif\" font-size=\"14.00\">class = Sumatera Barat</text>\n</g>\n<!-- 3&#45;&gt;11 -->\n<g id=\"edge11\" class=\"edge\">\n<title>3&#45;&gt;11</title>\n<path fill=\"none\" stroke=\"black\" d=\"M566.51,-460.91C577.5,-449.32 589.48,-436.7 600.47,-425.11\"/>\n<polygon fill=\"black\" stroke=\"black\" points=\"603.19,-427.33 607.53,-417.67 598.11,-422.51 603.19,-427.33\"/>\n</g>\n<!-- 5 -->\n<g id=\"node6\" class=\"node\">\n<title>5</title>\n<path fill=\"#fbfefb\" stroke=\"black\" d=\"M399.5,-306C399.5,-306 216.5,-306 216.5,-306 210.5,-306 204.5,-300 204.5,-294 204.5,-294 204.5,-235 204.5,-235 204.5,-229 210.5,-223 216.5,-223 216.5,-223 399.5,-223 399.5,-223 405.5,-223 411.5,-229 411.5,-235 411.5,-235 411.5,-294 411.5,-294 411.5,-300 405.5,-306 399.5,-306\"/>\n<text text-anchor=\"middle\" x=\"308\" y=\"-290.8\" font-family=\"Helvetica,sans-Serif\" font-size=\"14.00\">Provinsi_Jambi &lt;= 0.5</text>\n<text text-anchor=\"middle\" x=\"308\" y=\"-275.8\" font-family=\"Helvetica,sans-Serif\" font-size=\"14.00\">gini = 0.667</text>\n<text text-anchor=\"middle\" x=\"308\" y=\"-260.8\" font-family=\"Helvetica,sans-Serif\" font-size=\"14.00\">samples = 73</text>\n<text text-anchor=\"middle\" x=\"308\" y=\"-245.8\" font-family=\"Helvetica,sans-Serif\" font-size=\"14.00\">value = [0, 24, 25, 0, 0, 0, 24, 0]</text>\n<text text-anchor=\"middle\" x=\"308\" y=\"-230.8\" font-family=\"Helvetica,sans-Serif\" font-size=\"14.00\">class = Jambi</text>\n</g>\n<!-- 4&#45;&gt;5 -->\n<g id=\"edge5\" class=\"edge\">\n<title>4&#45;&gt;5</title>\n<path fill=\"none\" stroke=\"black\" d=\"M379.18,-341.91C370.64,-332.74 361.5,-322.93 352.71,-313.49\"/>\n<polygon fill=\"black\" stroke=\"black\" points=\"355.13,-310.95 345.75,-306.02 350.01,-315.72 355.13,-310.95\"/>\n</g>\n<!-- 10 -->\n<g id=\"node11\" class=\"node\">\n<title>10</title>\n<path fill=\"#39e5ac\" stroke=\"black\" d=\"M610,-298.5C610,-298.5 442,-298.5 442,-298.5 436,-298.5 430,-292.5 430,-286.5 430,-286.5 430,-242.5 430,-242.5 430,-236.5 436,-230.5 442,-230.5 442,-230.5 610,-230.5 610,-230.5 616,-230.5 622,-236.5 622,-242.5 622,-242.5 622,-286.5 622,-286.5 622,-292.5 616,-298.5 610,-298.5\"/>\n<text text-anchor=\"middle\" x=\"526\" y=\"-283.3\" font-family=\"Helvetica,sans-Serif\" font-size=\"14.00\">gini = 0.0</text>\n<text text-anchor=\"middle\" x=\"526\" y=\"-268.3\" font-family=\"Helvetica,sans-Serif\" font-size=\"14.00\">samples = 25</text>\n<text text-anchor=\"middle\" x=\"526\" y=\"-253.3\" font-family=\"Helvetica,sans-Serif\" font-size=\"14.00\">value = [0, 0, 0, 25, 0, 0, 0, 0]</text>\n<text text-anchor=\"middle\" x=\"526\" y=\"-238.3\" font-family=\"Helvetica,sans-Serif\" font-size=\"14.00\">class = Lampung</text>\n</g>\n<!-- 4&#45;&gt;10 -->\n<g id=\"edge10\" class=\"edge\">\n<title>4&#45;&gt;10</title>\n<path fill=\"none\" stroke=\"black\" d=\"M454.82,-341.91C465.61,-330.32 477.37,-317.7 488.17,-306.11\"/>\n<polygon fill=\"black\" stroke=\"black\" points=\"490.85,-308.37 495.1,-298.67 485.72,-303.6 490.85,-308.37\"/>\n</g>\n<!-- 6 -->\n<g id=\"node7\" class=\"node\">\n<title>6</title>\n<path fill=\"#ffffff\" stroke=\"black\" d=\"M289,-187C289,-187 113,-187 113,-187 107,-187 101,-181 101,-175 101,-175 101,-116 101,-116 101,-110 107,-104 113,-104 113,-104 289,-104 289,-104 295,-104 301,-110 301,-116 301,-116 301,-175 301,-175 301,-181 295,-187 289,-187\"/>\n<text text-anchor=\"middle\" x=\"201\" y=\"-171.8\" font-family=\"Helvetica,sans-Serif\" font-size=\"14.00\">Provinsi_Bengkulu &lt;= 0.5</text>\n<text text-anchor=\"middle\" x=\"201\" y=\"-156.8\" font-family=\"Helvetica,sans-Serif\" font-size=\"14.00\">gini = 0.5</text>\n<text text-anchor=\"middle\" x=\"201\" y=\"-141.8\" font-family=\"Helvetica,sans-Serif\" font-size=\"14.00\">samples = 48</text>\n<text text-anchor=\"middle\" x=\"201\" y=\"-126.8\" font-family=\"Helvetica,sans-Serif\" font-size=\"14.00\">value = [0, 24, 0, 0, 0, 0, 24, 0]</text>\n<text text-anchor=\"middle\" x=\"201\" y=\"-111.8\" font-family=\"Helvetica,sans-Serif\" font-size=\"14.00\">class = Bengkulu</text>\n</g>\n<!-- 5&#45;&gt;6 -->\n<g id=\"edge6\" class=\"edge\">\n<title>5&#45;&gt;6</title>\n<path fill=\"none\" stroke=\"black\" d=\"M270.88,-222.91C262.49,-213.74 253.52,-203.93 244.89,-194.49\"/>\n<polygon fill=\"black\" stroke=\"black\" points=\"247.39,-192.04 238.06,-187.02 242.22,-196.76 247.39,-192.04\"/>\n</g>\n<!-- 9 -->\n<g id=\"node10\" class=\"node\">\n<title>9</title>\n<path fill=\"#47e539\" stroke=\"black\" d=\"M499,-179.5C499,-179.5 331,-179.5 331,-179.5 325,-179.5 319,-173.5 319,-167.5 319,-167.5 319,-123.5 319,-123.5 319,-117.5 325,-111.5 331,-111.5 331,-111.5 499,-111.5 499,-111.5 505,-111.5 511,-117.5 511,-123.5 511,-123.5 511,-167.5 511,-167.5 511,-173.5 505,-179.5 499,-179.5\"/>\n<text text-anchor=\"middle\" x=\"415\" y=\"-164.3\" font-family=\"Helvetica,sans-Serif\" font-size=\"14.00\">gini = 0.0</text>\n<text text-anchor=\"middle\" x=\"415\" y=\"-149.3\" font-family=\"Helvetica,sans-Serif\" font-size=\"14.00\">samples = 25</text>\n<text text-anchor=\"middle\" x=\"415\" y=\"-134.3\" font-family=\"Helvetica,sans-Serif\" font-size=\"14.00\">value = [0, 0, 25, 0, 0, 0, 0, 0]</text>\n<text text-anchor=\"middle\" x=\"415\" y=\"-119.3\" font-family=\"Helvetica,sans-Serif\" font-size=\"14.00\">class = Jambi</text>\n</g>\n<!-- 5&#45;&gt;9 -->\n<g id=\"edge9\" class=\"edge\">\n<title>5&#45;&gt;9</title>\n<path fill=\"none\" stroke=\"black\" d=\"M345.12,-222.91C355.72,-211.32 367.26,-198.7 377.86,-187.11\"/>\n<polygon fill=\"black\" stroke=\"black\" points=\"380.5,-189.41 384.67,-179.67 375.34,-184.68 380.5,-189.41\"/>\n</g>\n<!-- 7 -->\n<g id=\"node8\" class=\"node\">\n<title>7</title>\n<path fill=\"#d739e5\" stroke=\"black\" d=\"M180,-68C180,-68 12,-68 12,-68 6,-68 0,-62 0,-56 0,-56 0,-12 0,-12 0,-6 6,0 12,0 12,0 180,0 180,0 186,0 192,-6 192,-12 192,-12 192,-56 192,-56 192,-62 186,-68 180,-68\"/>\n<text text-anchor=\"middle\" x=\"96\" y=\"-52.8\" font-family=\"Helvetica,sans-Serif\" font-size=\"14.00\">gini = 0.0</text>\n<text text-anchor=\"middle\" x=\"96\" y=\"-37.8\" font-family=\"Helvetica,sans-Serif\" font-size=\"14.00\">samples = 24</text>\n<text text-anchor=\"middle\" x=\"96\" y=\"-22.8\" font-family=\"Helvetica,sans-Serif\" font-size=\"14.00\">value = [0, 0, 0, 0, 0, 0, 24, 0]</text>\n<text text-anchor=\"middle\" x=\"96\" y=\"-7.8\" font-family=\"Helvetica,sans-Serif\" font-size=\"14.00\">class = Sumatera Selatan</text>\n</g>\n<!-- 6&#45;&gt;7 -->\n<g id=\"edge7\" class=\"edge\">\n<title>6&#45;&gt;7</title>\n<path fill=\"none\" stroke=\"black\" d=\"M161.9,-103.73C153.07,-94.51 143.69,-84.74 134.87,-75.53\"/>\n<polygon fill=\"black\" stroke=\"black\" points=\"137.38,-73.1 127.93,-68.3 132.33,-77.94 137.38,-73.1\"/>\n</g>\n<!-- 8 -->\n<g id=\"node9\" class=\"node\">\n<title>8</title>\n<path fill=\"#c8e539\" stroke=\"black\" d=\"M390,-68C390,-68 222,-68 222,-68 216,-68 210,-62 210,-56 210,-56 210,-12 210,-12 210,-6 216,0 222,0 222,0 390,0 390,0 396,0 402,-6 402,-12 402,-12 402,-56 402,-56 402,-62 396,-68 390,-68\"/>\n<text text-anchor=\"middle\" x=\"306\" y=\"-52.8\" font-family=\"Helvetica,sans-Serif\" font-size=\"14.00\">gini = 0.0</text>\n<text text-anchor=\"middle\" x=\"306\" y=\"-37.8\" font-family=\"Helvetica,sans-Serif\" font-size=\"14.00\">samples = 24</text>\n<text text-anchor=\"middle\" x=\"306\" y=\"-22.8\" font-family=\"Helvetica,sans-Serif\" font-size=\"14.00\">value = [0, 24, 0, 0, 0, 0, 0, 0]</text>\n<text text-anchor=\"middle\" x=\"306\" y=\"-7.8\" font-family=\"Helvetica,sans-Serif\" font-size=\"14.00\">class = Bengkulu</text>\n</g>\n<!-- 6&#45;&gt;8 -->\n<g id=\"edge8\" class=\"edge\">\n<title>6&#45;&gt;8</title>\n<path fill=\"none\" stroke=\"black\" d=\"M240.1,-103.73C248.93,-94.51 258.31,-84.74 267.13,-75.53\"/>\n<polygon fill=\"black\" stroke=\"black\" points=\"269.67,-77.94 274.07,-68.3 264.62,-73.1 269.67,-77.94\"/>\n</g>\n</g>\n</svg>\n",
            "text/plain": [
              "<graphviz.sources.Source at 0x7e9d8702e5c0>"
            ]
          },
          "metadata": {},
          "execution_count": 35
        }
      ]
    },
    {
      "cell_type": "code",
      "source": [
        "# Simpan gambar sebagai file\n",
        "graph = graphviz.Source(dot_graph)\n",
        "graph.render(filename='decision_tree', format='png', cleanup=True)"
      ],
      "metadata": {
        "id": "35T7WYjEm-Fz",
        "outputId": "b1743138-2fb5-4d3f-84ab-413f95e14406",
        "colab": {
          "base_uri": "https://localhost:8080/",
          "height": 35
        }
      },
      "execution_count": null,
      "outputs": [
        {
          "output_type": "execute_result",
          "data": {
            "text/plain": [
              "'decision_tree.png'"
            ],
            "application/vnd.google.colaboratory.intrinsic+json": {
              "type": "string"
            }
          },
          "metadata": {},
          "execution_count": 36
        }
      ]
    }
  ]
}